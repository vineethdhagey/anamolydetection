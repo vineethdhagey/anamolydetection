{
 "cells": [
  {
   "cell_type": "code",
   "execution_count": null,
   "id": "bc8e150f",
   "metadata": {},
   "outputs": [],
   "source": [
    "pip install ipykernel\n"
   ]
  },
  {
   "cell_type": "code",
   "execution_count": null,
   "id": "7e5cb4da",
   "metadata": {},
   "outputs": [],
   "source": [
    "from src.utils import load_fd002_dataset\n",
    "from src.preprocessing import preprocess, create_sequences\n",
    "\n",
    "# Load and preprocess\n",
    "df = load_fd002_dataset()\n",
    "df, scaler = preprocess(df)\n",
    "\n",
    "# Create sequences for RUL prediction\n",
    "sequences, labels = create_sequences(df)\n"
   ]
  },
  {
   "cell_type": "code",
   "execution_count": null,
   "id": "43af1714",
   "metadata": {},
   "outputs": [],
   "source": [
    "from src.anomaly_detection import detect_anomalies, plot_anomalies\n",
    "\n",
    "sensor_cols = [col for col in df.columns if col.startswith('s_')]\n",
    "df, anomaly_model = detect_anomalies(df, sensor_cols)\n",
    "\n",
    "# Optional: visualize anomalies for a specific unit and sensor\n",
    "plot_anomalies(df, unit=1, sensor='s_2')\n"
   ]
  }
 ],
 "metadata": {
  "kernelspec": {
   "display_name": "Python 3",
   "language": "python",
   "name": "python3"
  },
  "language_info": {
   "codemirror_mode": {
    "name": "ipython",
    "version": 3
   },
   "file_extension": ".py",
   "mimetype": "text/x-python",
   "name": "python",
   "nbconvert_exporter": "python",
   "pygments_lexer": "ipython3",
   "version": "3.10.19"
  }
 },
 "nbformat": 4,
 "nbformat_minor": 5
}
